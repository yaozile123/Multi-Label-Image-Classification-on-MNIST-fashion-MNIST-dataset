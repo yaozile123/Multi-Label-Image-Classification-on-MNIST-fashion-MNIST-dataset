{
 "cells": [
  {
   "cell_type": "code",
   "execution_count": 23,
   "id": "3b091e95",
   "metadata": {},
   "outputs": [],
   "source": [
    "import numpy as np \n",
    "import pandas as pd\n",
    "import random\n",
    "import torch\n",
    "import torchvision.datasets as datasets\n",
    "import matplotlib.pyplot as plt"
   ]
  },
  {
   "cell_type": "code",
   "execution_count": 24,
   "id": "4ec3f2ad",
   "metadata": {},
   "outputs": [],
   "source": [
    "#download the train set and test set from mnist,length of train set is 60000,test set is 10000\n",
    "mnist_trainset = datasets.MNIST(root='./data', train=True, download=True, transform=None)\n",
    "mnist_testset = datasets.MNIST(root='./data', train=False, download=True, transform=None)\n",
    "# mnist_trainset = datasets.FashionMNIST(root='./data', train=True,transform=None)\n",
    "# mnist_testset = datasets.FashionMNIST(root='./data', train=False,transform=None)"
   ]
  },
  {
   "cell_type": "code",
   "execution_count": 25,
   "id": "963c0330",
   "metadata": {},
   "outputs": [],
   "source": [
    "image_sample = []\n",
    "label_sample=[]\n",
    "def mnist_show(mnist_trainset,image_sample=image_sample,label_sample=label_sample,row=2,col=4):\n",
    "    # we plot the image in a mxn matrix, default is 2X4in here\n",
    "    # data in mnist has two variables-img data and label\n",
    "    for i in range(0,row*col):\n",
    "        img,label=mnist_trainset[i]\n",
    "        image_sample.append(img)\n",
    "        label_sample.append(label)\n",
    "    fig, axes = plt.subplots(nrows=row, ncols=col, figsize=(8, 4))\n",
    "    #for ax, image, label in zip(axes, image_sample, label_sample):\n",
    "    for i in range(0,row):\n",
    "        for j in range(0,col):\n",
    "            ax= axes[i][j]\n",
    "            ax.set_axis_off()\n",
    "            image=image_sample[i*col+j]\n",
    "            label=label_sample[i*col+j]\n",
    "            #ax.imshow(image, cmap=plt.cm.gray_r, interpolation='nearest')\n",
    "            ax.imshow(image, cmap=plt.cm.gray, interpolation='nearest')\n",
    "            ax.set_title('Training: %i' % label)\n",
    "    plt.show()"
   ]
  },
  {
   "cell_type": "code",
   "execution_count": 26,
   "id": "2b36f3ae",
   "metadata": {},
   "outputs": [
    {
     "data": {
      "image/png": "[encoded data removed]",
      "text/plain": [
       "<Figure size 576x288 with 8 Axes>"
      ]
     },
     "metadata": {
      "needs_background": "light"
     },
     "output_type": "display_data"
    }
   ],
   "source": [
    "mnist_show(mnist_trainset)"
   ]
  },
  {
   "cell_type": "code",
   "execution_count": 27,
   "id": "ebb1b0fd",
   "metadata": {},
   "outputs": [],
   "source": [
    "def split_train_test(image_sample,train_X=[],train_y=[],test_X=[],test_y=[],train_size=10000,test_size=2000):\n",
    "    #since 60000 data set might be too big, we may need to chunk them and improve the efficiency\n",
    "    a =np.asarray(image_sample[0])#.reshape(-1)\n",
    "    idx_train = [random.randint(0,len(mnist_trainset)-1) for _ in range(train_size)]\n",
    "    idx_test = [random.randint(0,len(mnist_testset)-1) for _ in range(test_size)]\n",
    "    for i in idx_train:\n",
    "        img,label=mnist_trainset[i]\n",
    "        train_X.append(np.asarray(img).reshape(-1))\n",
    "        train_y.append(label)\n",
    "\n",
    "    for i in idx_test:\n",
    "        img,label=mnist_testset[i]\n",
    "        test_X.append(np.asarray(img).ravel())\n",
    "        test_y.append(label)\n",
    "    train_X = np.asarray(train_X)\n",
    "    test_X = np.asarray(test_X)\n",
    "    return train_X,train_y,test_X,test_y"
   ]
  },
  {
   "cell_type": "code",
   "execution_count": 28,
   "id": "627ad9ea",
   "metadata": {},
   "outputs": [],
   "source": [
    "train_X,train_y,test_X,test_y = split_train_test(image_sample)"
   ]
  },
  {
   "cell_type": "code",
   "execution_count": 29,
   "id": "91b0949d",
   "metadata": {},
   "outputs": [],
   "source": [
    "from sklearn import tree\n",
    "from sklearn.metrics import classification_report\n",
    "from sklearn.linear_model import LogisticRegression\n",
    "import lightgbm as lgb\n",
    "from sklearn import svm\n",
    "from sklearn.preprocessing import StandardScaler\n",
    "from sklearn.pipeline import make_pipeline"
   ]
  },
  {
   "cell_type": "code",
   "execution_count": 49,
   "id": "d230eedf",
   "metadata": {
    "scrolled": true
   },
   "outputs": [
    {
     "name": "stdout",
     "output_type": "stream",
     "text": [
      "              precision    recall  f1-score   support\n",
      "\n",
      "           0       0.89      0.91      0.90       200\n",
      "           1       0.92      0.96      0.94       224\n",
      "           2       0.81      0.79      0.80       193\n",
      "           3       0.77      0.71      0.74       211\n",
      "           4       0.83      0.87      0.85       201\n",
      "           5       0.74      0.74      0.74       181\n",
      "           6       0.84      0.86      0.85       189\n",
      "           7       0.84      0.83      0.83       221\n",
      "           8       0.80      0.78      0.79       179\n",
      "           9       0.76      0.76      0.76       201\n",
      "\n",
      "    accuracy                           0.82      2000\n",
      "   macro avg       0.82      0.82      0.82      2000\n",
      "weighted avg       0.82      0.82      0.82      2000\n",
      "\n"
     ]
    }
   ],
   "source": [
    "#choose the model you want\n",
    "# clf = LogisticRegression() \n",
    "clf = tree.DecisionTreeClassifier()\n",
    "# clf = svm.SVC()\n",
    "# scl = StandardScaler()\n",
    "# train_X = scl.fit_transform(train_X)\n",
    "# test_X = scl.fit_transform(test_X)\n",
    "# clf = lgb.LGBMClassifier()\n",
    "# clf=make_pipeline(StandardScaler(), svm.SVC(kernel='rbf'))\n",
    "def model_fitting(clf,train_X = train_X,train_y = train_y,test_X = test_X,test_y=test_y):\n",
    "    clf.fit(train_X,train_y)\n",
    "    pred = clf.predict(test_X)\n",
    "    return pred\n",
    "pred = model_fitting(clf)\n",
    "result = classification_report(test_y,pred)\n",
    "print(result)"
   ]
  },
  {
   "cell_type": "code",
   "execution_count": 50,
   "id": "ff5e680d",
   "metadata": {},
   "outputs": [
    {
     "name": "stdout",
     "output_type": "stream",
     "text": [
      "[[1. 0. 0. ... 0. 0. 0.]\n",
      " [0. 0. 0. ... 1. 0. 0.]\n",
      " [0. 0. 0. ... 1. 0. 0.]\n",
      " ...\n",
      " [0. 0. 0. ... 0. 0. 0.]\n",
      " [1. 0. 0. ... 0. 0. 0.]\n",
      " [0. 0. 0. ... 1. 0. 0.]]\n"
     ]
    }
   ],
   "source": [
    "pred_probas=clf.predict_proba(test_X)#we can see the prob when predict the outcome\n",
    "print(pred_probas)"
   ]
  },
  {
   "cell_type": "code",
   "execution_count": 51,
   "id": "3fac5c5d",
   "metadata": {},
   "outputs": [
    {
     "name": "stdout",
     "output_type": "stream",
     "text": [
      "[0 0 0 0 0 0 0 0 0 0 0 0 0 0 0 0 0 0 0 6 0 0 0 6 0 0 0 0 5 0 0 0 0 0 0 0 0\n",
      " 0 5 0 0 3 0 0 0 0 0 0 0 0 0 3 0 0 0 0 0 0 0 0 0 5 0 0 0 0 0 0 0 0 0 0 0 0\n",
      " 0 0 0 0 4 0 0 5 5 0 0 0 0 0 0 0 0 0 0 0 0 0 0 0 0 5 0 0 0 0 0 0 0 0 0 0 0\n",
      " 0 0 0 7 0 0 3 0 0 0 0 0 0 0 0 0 0 0 0 0 0 0 0 0 0 0 0 0 0 0 0 0 0 0 3 7 0\n",
      " 0 0 0 0 0 0 0 0 0 0 0 0 0 0 0 4 0 0 0 0 0 0 0 0 0 0 0 0 6 7 0 0 0 0 0 0 0\n",
      " 0 0 0 0 0 0 0 0 0 0 0 0 0 0 0]\n",
      "[1 1 1 1 1 1 1 1 1 5 1 1 1 1 1 1 1 1 1 1 1 1 1 1 1 1 1 1 4 1 1 1 1 1 1 1 1\n",
      " 1 1 1 1 1 1 1 1 1 1 1 1 1 1 1 1 1 1 1 1 1 1 5 1 1 1 1 1 1 1 1 1 1 1 1 1 1\n",
      " 1 1 1 1 1 1 1 1 1 1 1 1 1 1 3 1 1 1 1 1 1 1 1 1 1 1 1 1 1 1 1 1 1 1 1 1 1\n",
      " 1 1 1 1 1 1 1 1 1 1 1 1 1 1 1 1 1 1 5 1 1 1 1 1 1 1 1 1 1 1 1 1 1 1 1 1 1\n",
      " 1 1 1 1 1 1 1 1 1 1 1 1 1 1 1 1 1 1 1 1 1 1 1 1 1 1 1 6 1 1 1 1 1 1 1 1 1\n",
      " 1 1 1 1 8 1 1 1 1 1 1 1 1 1 1 1 1 1 1 1 1 1 1 1 1 1 1 1 1 1 1 1 1 1 3 1 1\n",
      " 1 1]\n",
      "[2 2 2 2 2 2 2 2 2 2 2 2 2 2 2 2 2 2 2 2 2 2 2 2 2 2 2 2 2 2 2 2 2 2 2 2 0\n",
      " 2 2 2 7 3 2 8 2 4 2 2 2 5 2 2 2 2 2 2 2 2 6 4 3 7 8 8 2 2 2 2 2 4 2 2 2 2\n",
      " 2 4 2 2 2 2 2 2 5 3 2 2 1 7 2 2 2 2 8 6 2 2 2 2 2 2 2 2 2 2 2 0 6 2 2 7 2\n",
      " 6 9 2 2 8 2 2 0 2 2 3 2 2 2 2 2 2 2 2 2 2 2 2 2 2 2 2 2 2 2 2 5 2 2 2 2 7\n",
      " 2 2 2 2 2 2 2 2 2 2 6 6 2 2 2 2 2 9 2 2 2 3 2 2 2 0 2 7 2 4 2 2 2 2 3 4 2\n",
      " 4 2 2 7 2 2 2 2]\n",
      "[3 3 9 3 4 3 5 3 3 3 5 3 3 5 3 3 3 6 3 9 3 3 9 3 3 5 3 3 3 3 3 3 3 3 5 8 8\n",
      " 3 5 3 9 3 1 2 5 3 3 3 3 2 3 3 3 3 3 3 5 0 3 2 3 3 7 3 3 2 3 3 3 6 3 3 3 3\n",
      " 3 3 2 3 3 3 3 4 6 8 3 2 3 3 3 3 5 3 6 3 3 3 3 3 2 3 3 3 6 3 3 9 3 8 4 7 3\n",
      " 3 3 2 3 5 6 3 3 4 3 6 3 3 3 3 3 3 3 2 3 5 3 3 3 3 7 3 6 3 3 3 3 3 3 3 3 3\n",
      " 3 5 3 3 3 3 7 3 9 2 5 3 3 3 3 3 9 3 3 5 7 3 3 3 3 3 5 3 3 3 5 8 3 3 3 3 7\n",
      " 3 3 7 3 3 1 3 3 3 3 3 3 3 3 3 3 3 3 3 3 8 3 3 3 3 3]\n",
      "[4 1 4 4 4 4 4 4 4 4 4 4 4 4 4 4 4 0 4 3 4 3 4 4 4 4 4 4 4 4 4 4 4 4 8 4 4\n",
      " 4 9 4 4 4 4 4 4 4 4 6 4 4 4 4 4 5 4 4 4 5 4 9 4 4 4 4 4 4 4 9 4 9 2 4 4 4\n",
      " 4 4 4 4 4 4 4 4 1 4 4 4 4 4 1 6 4 4 4 4 4 4 4 4 4 4 4 4 3 6 4 4 4 4 4 4 9\n",
      " 4 4 4 4 4 4 4 4 4 4 4 4 4 4 4 4 4 4 4 4 4 4 4 4 4 4 4 4 4 4 4 6 4 4 4 4 4\n",
      " 4 4 4 4 4 9 4 4 4 4 4 4 4 4 4 4 4 9 4 4 4 3 4 4 4 4 4 4 4 4 4 4 4 4 2 4 4\n",
      " 4 4 4 4 4 4 4 4 9 4 4 9 4 4 4 4]\n",
      "[5 5 5 6 5 5 5 5 2 4 5 5 5 9 5 5 5 5 5 5 5 5 5 6 5 5 9 5 3 3 5 5 5 5 1 3 6\n",
      " 0 5 5 2 5 5 5 9 5 5 5 5 5 5 5 5 6 5 5 5 5 5 9 5 5 9 5 5 1 5 0 5 5 8 5 5 5\n",
      " 0 1 5 5 5 9 5 5 5 9 5 5 5 5 5 0 5 5 5 5 5 5 3 5 4 5 5 0 5 5 5 3 3 5 5 5 5\n",
      " 5 5 5 5 5 3 5 6 5 5 1 5 5 9 5 5 5 5 5 5 5 5 9 5 5 5 5 5 5 5 5 9 5 5 5 5 2\n",
      " 3 5 1 5 5 5 3 5 5 5 5 5 5 5 9 9 1 5 5 5 5 5 4 5 6 3 5 5 5 9 5 5 5]\n",
      "[6 6 6 9 6 6 6 6 5 6 6 1 6 6 6 6 6 6 6 6 6 6 6 6 6 3 6 6 6 5 6 6 6 6 8 6 6\n",
      " 6 6 6 6 6 6 6 6 6 6 6 0 6 6 6 6 2 6 6 6 6 6 6 6 6 6 6 6 6 6 6 6 9 6 6 6 6\n",
      " 6 6 6 6 6 6 6 6 3 6 6 6 6 6 6 6 6 6 6 6 6 6 3 6 8 6 6 6 6 4 6 6 6 6 5 7 6\n",
      " 6 6 6 6 6 5 6 6 6 3 6 6 6 6 6 6 6 8 6 6 4 6 6 6 6 6 6 6 8 6 6 6 6 6 6 6 6\n",
      " 6 6 6 6 6 6 0 9 6 0 6 6 6 6 8 6 6 6 6 6 6 6 6 6 6 6 6 6 6 6 1 6 6 6 6 6 6\n",
      " 6 5 6 1]\n",
      "[7 7 9 7 7 7 7 7 7 7 7 7 9 7 7 7 7 7 7 7 7 7 1 2 7 7 7 7 7 7 7 2 7 8 8 7 7\n",
      " 7 7 7 7 7 7 8 7 7 7 4 7 7 2 7 7 7 7 7 7 2 7 7 7 7 7 7 7 7 7 7 2 9 9 7 7 7\n",
      " 7 7 2 7 7 5 7 7 7 4 7 7 7 7 7 7 7 7 7 7 7 7 7 7 7 9 7 7 7 7 7 7 7 7 7 9 7\n",
      " 7 7 7 7 7 7 8 4 3 7 7 7 7 7 7 7 7 8 7 4 7 7 7 7 7 7 7 9 7 7 7 7 7 7 7 8 7\n",
      " 7 4 4 7 7 7 7 7 7 8 7 7 7 2 7 7 7 7 7 4 7 7 7 7 7 7 7 7 7 7 7 7 9 7 7 7 2\n",
      " 7 7 7 7 7 7 7 7 7 7 2 7 7 7 7 7 8 7 7 7 2 5 7 7 7 7 9 7 7 7 7 7 7 7 7 7]\n",
      "[8 3 8 8 8 7 2 8 8 8 8 8 8 8 8 8 2 8 8 8 8 8 8 0 8 8 8 8 8 8 5 8 8 8 8 8 5\n",
      " 9 8 8 8 8 8 8 8 8 3 8 8 8 8 8 8 6 8 7 8 8 9 0 0 8 8 9 8 8 6 8 8 8 8 8 8 8\n",
      " 8 8 8 2 8 8 8 8 8 9 2 4 3 8 3 2 8 8 8 8 8 8 8 8 8 8 8 8 8 8 8 8 8 5 8 5 8\n",
      " 8 5 8 3 8 8 8 8 8 8 8 8 6 8 8 8 8 8 8 8 2 8 8 8 3 8 8 7 8 8 8 8 0 6 8 8 7\n",
      " 8 8 8 8 8 8 8 3 8 3 3 8 0 8 8 8 8 8 8 8 8 8 4 8 8 8 8 8 0 8 8]\n",
      "[2 9 9 9 1 9 9 9 5 9 3 5 2 9 9 9 8 9 9 9 9 9 9 9 9 9 9 9 9 8 9 9 7 9 9 9 9\n",
      " 9 9 9 5 9 9 9 9 9 5 9 2 9 7 9 9 9 9 9 9 9 3 0 9 7 9 9 7 2 9 8 9 3 9 9 4 9\n",
      " 9 9 7 9 9 7 9 8 9 9 9 9 9 9 9 9 7 9 9 9 9 4 7 7 7 9 9 9 9 9 9 9 9 7 4 3 9\n",
      " 9 9 5 9 9 9 9 7 9 9 9 9 9 9 9 9 9 9 9 9 9 9 9 9 9 9 9 8 9 9 9 9 9 9 9 9 9\n",
      " 9 4 9 9 9 8 9 9 9 9 4 9 9 7 0 4 3 9 9 1 9 9 9 9 9 9 4 9 9 9 4 9 9 9 9 9 9\n",
      " 4 5 9 9 7 9 9 9 9 9 9 9 9 9 9 8]\n"
     ]
    },
    {
     "data": {
      "application/vnd.plotly.v1+json": {
       "config": {
        "plotlyServerURL": "https://plot.ly"
       },
       "data": [
        {
         "marker": {
          "color": 0
         },
         "name": "error 0",
         "nbinsx": 10,
         "opacity": 0.5,
         "type": "histogram",
         "x": [
          6,
          6,
          5,
          5,
          3,
          3,
          5,
          4,
          5,
          5,
          5,
          7,
          3,
          3,
          7,
          4,
          6,
          7
         ]
        },
        {
         "marker": {
          "color": 1
         },
         "name": "error 1",
         "nbinsx": 10,
         "opacity": 0.5,
         "type": "histogram",
         "x": [
          5,
          4,
          5,
          3,
          5,
          6,
          8,
          3
         ]
        },
        {
         "marker": {
          "color": 2
         },
         "name": "error 2",
         "nbinsx": 10,
         "opacity": 0.5,
         "type": "histogram",
         "x": [
          0,
          7,
          3,
          8,
          4,
          5,
          6,
          4,
          3,
          7,
          8,
          8,
          4,
          4,
          5,
          3,
          1,
          7,
          8,
          6,
          0,
          6,
          7,
          6,
          9,
          8,
          0,
          3,
          5,
          7,
          6,
          6,
          9,
          3,
          0,
          7,
          4,
          3,
          4,
          4,
          7
         ]
        },
        {
         "marker": {
          "color": 3
         },
         "name": "error 3",
         "nbinsx": 10,
         "opacity": 0.5,
         "type": "histogram",
         "x": [
          9,
          4,
          5,
          5,
          5,
          6,
          9,
          9,
          5,
          5,
          8,
          8,
          5,
          9,
          1,
          2,
          5,
          2,
          5,
          0,
          2,
          7,
          2,
          6,
          2,
          4,
          6,
          8,
          2,
          5,
          6,
          2,
          6,
          9,
          8,
          4,
          7,
          2,
          5,
          6,
          4,
          6,
          2,
          5,
          7,
          6,
          5,
          7,
          9,
          2,
          5,
          9,
          5,
          7,
          5,
          5,
          8,
          7,
          7,
          1,
          8
         ]
        },
        {
         "marker": {
          "color": 4
         },
         "name": "error 4",
         "nbinsx": 10,
         "opacity": 0.5,
         "type": "histogram",
         "x": [
          1,
          0,
          3,
          3,
          8,
          9,
          6,
          5,
          5,
          9,
          9,
          9,
          2,
          1,
          1,
          6,
          3,
          6,
          9,
          6,
          9,
          9,
          3,
          2,
          9,
          9
         ]
        },
        {
         "marker": {
          "color": 5
         },
         "name": "error 5",
         "nbinsx": 10,
         "opacity": 0.5,
         "type": "histogram",
         "x": [
          6,
          2,
          4,
          9,
          6,
          9,
          3,
          3,
          1,
          3,
          6,
          0,
          2,
          9,
          6,
          9,
          9,
          1,
          0,
          8,
          0,
          1,
          9,
          9,
          0,
          3,
          4,
          0,
          3,
          3,
          3,
          6,
          1,
          9,
          9,
          9,
          2,
          3,
          1,
          3,
          9,
          9,
          1,
          4,
          6,
          3,
          9
         ]
        },
        {
         "marker": {
          "color": 6
         },
         "name": "error 6",
         "nbinsx": 10,
         "opacity": 0.5,
         "type": "histogram",
         "x": [
          9,
          5,
          1,
          3,
          5,
          8,
          0,
          2,
          9,
          3,
          3,
          8,
          4,
          5,
          7,
          5,
          3,
          8,
          4,
          8,
          0,
          9,
          0,
          8,
          1,
          5,
          1
         ]
        },
        {
         "marker": {
          "color": 7
         },
         "name": "error 7",
         "nbinsx": 10,
         "opacity": 0.5,
         "type": "histogram",
         "x": [
          9,
          9,
          1,
          2,
          2,
          8,
          8,
          8,
          4,
          2,
          2,
          2,
          9,
          9,
          2,
          5,
          4,
          9,
          9,
          8,
          4,
          3,
          8,
          4,
          9,
          8,
          4,
          4,
          8,
          2,
          4,
          9,
          2,
          2,
          8,
          2,
          5,
          9
         ]
        },
        {
         "marker": {
          "color": 8
         },
         "name": "error 8",
         "nbinsx": 10,
         "opacity": 0.5,
         "type": "histogram",
         "x": [
          3,
          7,
          2,
          2,
          0,
          5,
          5,
          9,
          3,
          6,
          7,
          9,
          0,
          0,
          9,
          6,
          2,
          9,
          2,
          4,
          3,
          3,
          2,
          5,
          5,
          5,
          3,
          6,
          2,
          3,
          7,
          0,
          6,
          7,
          3,
          3,
          3,
          0,
          4,
          0
         ]
        },
        {
         "marker": {
          "color": 9
         },
         "name": "error 9",
         "nbinsx": 10,
         "opacity": 0.5,
         "type": "histogram",
         "x": [
          2,
          1,
          5,
          3,
          5,
          2,
          8,
          8,
          7,
          5,
          5,
          2,
          7,
          3,
          0,
          7,
          7,
          2,
          8,
          3,
          4,
          7,
          7,
          8,
          7,
          4,
          7,
          7,
          7,
          7,
          4,
          3,
          5,
          7,
          8,
          4,
          8,
          4,
          7,
          0,
          4,
          3,
          1,
          4,
          4,
          4,
          5,
          7,
          8
         ]
        }
       ],
       "layout": {
        "template": {
         "data": {
          "bar": [
           {
            "error_x": {
             "color": "#2a3f5f"
            },
            "error_y": {
             "color": "#2a3f5f"
            },
            "marker": {
             "line": {
              "color": "#E5ECF6",
              "width": 0.5
             },
             "pattern": {
              "fillmode": "overlay",
              "size": 10,
              "solidity": 0.2
             }
            },
            "type": "bar"
           }
          ],
          "barpolar": [
           {
            "marker": {
             "line": {
              "color": "#E5ECF6",
              "width": 0.5
             },
             "pattern": {
              "fillmode": "overlay",
              "size": 10,
              "solidity": 0.2
             }
            },
            "type": "barpolar"
           }
          ],
          "carpet": [
           {
            "aaxis": {
             "endlinecolor": "#2a3f5f",
             "gridcolor": "white",
             "linecolor": "white",
             "minorgridcolor": "white",
             "startlinecolor": "#2a3f5f"
            },
            "baxis": {
             "endlinecolor": "#2a3f5f",
             "gridcolor": "white",
             "linecolor": "white",
             "minorgridcolor": "white",
             "startlinecolor": "#2a3f5f"
            },
            "type": "carpet"
           }
          ],
          "choropleth": [
           {
            "colorbar": {
             "outlinewidth": 0,
             "ticks": ""
            },
            "type": "choropleth"
           }
          ],
          "contour": [
           {
            "colorbar": {
             "outlinewidth": 0,
             "ticks": ""
            },
            "colorscale": [
             [
              0,
              "#0d0887"
             ],
             [
              0.1111111111111111,
              "#46039f"
             ],
             [
              0.2222222222222222,
              "#7201a8"
             ],
             [
              0.3333333333333333,
              "#9c179e"
             ],
             [
              0.4444444444444444,
              "#bd3786"
             ],
             [
              0.5555555555555556,
              "#d8576b"
             ],
             [
              0.6666666666666666,
              "#ed7953"
             ],
             [
              0.7777777777777778,
              "#fb9f3a"
             ],
             [
              0.8888888888888888,
              "#fdca26"
             ],
             [
              1,
              "#f0f921"
             ]
            ],
            "type": "contour"
           }
          ],
          "contourcarpet": [
           {
            "colorbar": {
             "outlinewidth": 0,
             "ticks": ""
            },
            "type": "contourcarpet"
           }
          ],
          "heatmap": [
           {
            "colorbar": {
             "outlinewidth": 0,
             "ticks": ""
            },
            "colorscale": [
             [
              0,
              "#0d0887"
             ],
             [
              0.1111111111111111,
              "#46039f"
             ],
             [
              0.2222222222222222,
              "#7201a8"
             ],
             [
              0.3333333333333333,
              "#9c179e"
             ],
             [
              0.4444444444444444,
              "#bd3786"
             ],
             [
              0.5555555555555556,
              "#d8576b"
             ],
             [
              0.6666666666666666,
              "#ed7953"
             ],
             [
              0.7777777777777778,
              "#fb9f3a"
             ],
             [
              0.8888888888888888,
              "#fdca26"
             ],
             [
              1,
              "#f0f921"
             ]
            ],
            "type": "heatmap"
           }
          ],
          "heatmapgl": [
           {
            "colorbar": {
             "outlinewidth": 0,
             "ticks": ""
            },
            "colorscale": [
             [
              0,
              "#0d0887"
             ],
             [
              0.1111111111111111,
              "#46039f"
             ],
             [
              0.2222222222222222,
              "#7201a8"
             ],
             [
              0.3333333333333333,
              "#9c179e"
             ],
             [
              0.4444444444444444,
              "#bd3786"
             ],
             [
              0.5555555555555556,
              "#d8576b"
             ],
             [
              0.6666666666666666,
              "#ed7953"
             ],
             [
              0.7777777777777778,
              "#fb9f3a"
             ],
             [
              0.8888888888888888,
              "#fdca26"
             ],
             [
              1,
              "#f0f921"
             ]
            ],
            "type": "heatmapgl"
           }
          ],
          "histogram": [
           {
            "marker": {
             "pattern": {
              "fillmode": "overlay",
              "size": 10,
              "solidity": 0.2
             }
            },
            "type": "histogram"
           }
          ],
          "histogram2d": [
           {
            "colorbar": {
             "outlinewidth": 0,
             "ticks": ""
            },
            "colorscale": [
             [
              0,
              "#0d0887"
             ],
             [
              0.1111111111111111,
              "#46039f"
             ],
             [
              0.2222222222222222,
              "#7201a8"
             ],
             [
              0.3333333333333333,
              "#9c179e"
             ],
             [
              0.4444444444444444,
              "#bd3786"
             ],
             [
              0.5555555555555556,
              "#d8576b"
             ],
             [
              0.6666666666666666,
              "#ed7953"
             ],
             [
              0.7777777777777778,
              "#fb9f3a"
             ],
             [
              0.8888888888888888,
              "#fdca26"
             ],
             [
              1,
              "#f0f921"
             ]
            ],
            "type": "histogram2d"
           }
          ],
          "histogram2dcontour": [
           {
            "colorbar": {
             "outlinewidth": 0,
             "ticks": ""
            },
            "colorscale": [
             [
              0,
              "#0d0887"
             ],
             [
              0.1111111111111111,
              "#46039f"
             ],
             [
              0.2222222222222222,
              "#7201a8"
             ],
             [
              0.3333333333333333,
              "#9c179e"
             ],
             [
              0.4444444444444444,
              "#bd3786"
             ],
             [
              0.5555555555555556,
              "#d8576b"
             ],
             [
              0.6666666666666666,
              "#ed7953"
             ],
             [
              0.7777777777777778,
              "#fb9f3a"
             ],
             [
              0.8888888888888888,
              "#fdca26"
             ],
             [
              1,
              "#f0f921"
             ]
            ],
            "type": "histogram2dcontour"
           }
          ],
          "mesh3d": [
           {
            "colorbar": {
             "outlinewidth": 0,
             "ticks": ""
            },
            "type": "mesh3d"
           }
          ],
          "parcoords": [
           {
            "line": {
             "colorbar": {
              "outlinewidth": 0,
              "ticks": ""
             }
            },
            "type": "parcoords"
           }
          ],
          "pie": [
           {
            "automargin": true,
            "type": "pie"
           }
          ],
          "scatter": [
           {
            "marker": {
             "colorbar": {
              "outlinewidth": 0,
              "ticks": ""
             }
            },
            "type": "scatter"
           }
          ],
          "scatter3d": [
           {
            "line": {
             "colorbar": {
              "outlinewidth": 0,
              "ticks": ""
             }
            },
            "marker": {
             "colorbar": {
              "outlinewidth": 0,
              "ticks": ""
             }
            },
            "type": "scatter3d"
           }
          ],
          "scattercarpet": [
           {
            "marker": {
             "colorbar": {
              "outlinewidth": 0,
              "ticks": ""
             }
            },
            "type": "scattercarpet"
           }
          ],
          "scattergeo": [
           {
            "marker": {
             "colorbar": {
              "outlinewidth": 0,
              "ticks": ""
             }
            },
            "type": "scattergeo"
           }
          ],
          "scattergl": [
           {
            "marker": {
             "colorbar": {
              "outlinewidth": 0,
              "ticks": ""
             }
            },
            "type": "scattergl"
           }
          ],
          "scattermapbox": [
           {
            "marker": {
             "colorbar": {
              "outlinewidth": 0,
              "ticks": ""
             }
            },
            "type": "scattermapbox"
           }
          ],
          "scatterpolar": [
           {
            "marker": {
             "colorbar": {
              "outlinewidth": 0,
              "ticks": ""
             }
            },
            "type": "scatterpolar"
           }
          ],
          "scatterpolargl": [
           {
            "marker": {
             "colorbar": {
              "outlinewidth": 0,
              "ticks": ""
             }
            },
            "type": "scatterpolargl"
           }
          ],
          "scatterternary": [
           {
            "marker": {
             "colorbar": {
              "outlinewidth": 0,
              "ticks": ""
             }
            },
            "type": "scatterternary"
           }
          ],
          "surface": [
           {
            "colorbar": {
             "outlinewidth": 0,
             "ticks": ""
            },
            "colorscale": [
             [
              0,
              "#0d0887"
             ],
             [
              0.1111111111111111,
              "#46039f"
             ],
             [
              0.2222222222222222,
              "#7201a8"
             ],
             [
              0.3333333333333333,
              "#9c179e"
             ],
             [
              0.4444444444444444,
              "#bd3786"
             ],
             [
              0.5555555555555556,
              "#d8576b"
             ],
             [
              0.6666666666666666,
              "#ed7953"
             ],
             [
              0.7777777777777778,
              "#fb9f3a"
             ],
             [
              0.8888888888888888,
              "#fdca26"
             ],
             [
              1,
              "#f0f921"
             ]
            ],
            "type": "surface"
           }
          ],
          "table": [
           {
            "cells": {
             "fill": {
              "color": "#EBF0F8"
             },
             "line": {
              "color": "white"
             }
            },
            "header": {
             "fill": {
              "color": "#C8D4E3"
             },
             "line": {
              "color": "white"
             }
            },
            "type": "table"
           }
          ]
         },
         "layout": {
          "annotationdefaults": {
           "arrowcolor": "#2a3f5f",
           "arrowhead": 0,
           "arrowwidth": 1
          },
          "autotypenumbers": "strict",
          "coloraxis": {
           "colorbar": {
            "outlinewidth": 0,
            "ticks": ""
           }
          },
          "colorscale": {
           "diverging": [
            [
             0,
             "#8e0152"
            ],
            [
             0.1,
             "#c51b7d"
            ],
            [
             0.2,
             "#de77ae"
            ],
            [
             0.3,
             "#f1b6da"
            ],
            [
             0.4,
             "#fde0ef"
            ],
            [
             0.5,
             "#f7f7f7"
            ],
            [
             0.6,
             "#e6f5d0"
            ],
            [
             0.7,
             "#b8e186"
            ],
            [
             0.8,
             "#7fbc41"
            ],
            [
             0.9,
             "#4d9221"
            ],
            [
             1,
             "#276419"
            ]
           ],
           "sequential": [
            [
             0,
             "#0d0887"
            ],
            [
             0.1111111111111111,
             "#46039f"
            ],
            [
             0.2222222222222222,
             "#7201a8"
            ],
            [
             0.3333333333333333,
             "#9c179e"
            ],
            [
             0.4444444444444444,
             "#bd3786"
            ],
            [
             0.5555555555555556,
             "#d8576b"
            ],
            [
             0.6666666666666666,
             "#ed7953"
            ],
            [
             0.7777777777777778,
             "#fb9f3a"
            ],
            [
             0.8888888888888888,
             "#fdca26"
            ],
            [
             1,
             "#f0f921"
            ]
           ],
           "sequentialminus": [
            [
             0,
             "#0d0887"
            ],
            [
             0.1111111111111111,
             "#46039f"
            ],
            [
             0.2222222222222222,
             "#7201a8"
            ],
            [
             0.3333333333333333,
             "#9c179e"
            ],
            [
             0.4444444444444444,
             "#bd3786"
            ],
            [
             0.5555555555555556,
             "#d8576b"
            ],
            [
             0.6666666666666666,
             "#ed7953"
            ],
            [
             0.7777777777777778,
             "#fb9f3a"
            ],
            [
             0.8888888888888888,
             "#fdca26"
            ],
            [
             1,
             "#f0f921"
            ]
           ]
          },
          "colorway": [
           "#636efa",
           "#EF553B",
           "#00cc96",
           "#ab63fa",
           "#FFA15A",
           "#19d3f3",
           "#FF6692",
           "#B6E880",
           "#FF97FF",
           "#FECB52"
          ],
          "font": {
           "color": "#2a3f5f"
          },
          "geo": {
           "bgcolor": "white",
           "lakecolor": "white",
           "landcolor": "#E5ECF6",
           "showlakes": true,
           "showland": true,
           "subunitcolor": "white"
          },
          "hoverlabel": {
           "align": "left"
          },
          "hovermode": "closest",
          "mapbox": {
           "style": "light"
          },
          "paper_bgcolor": "white",
          "plot_bgcolor": "#E5ECF6",
          "polar": {
           "angularaxis": {
            "gridcolor": "white",
            "linecolor": "white",
            "ticks": ""
           },
           "bgcolor": "#E5ECF6",
           "radialaxis": {
            "gridcolor": "white",
            "linecolor": "white",
            "ticks": ""
           }
          },
          "scene": {
           "xaxis": {
            "backgroundcolor": "#E5ECF6",
            "gridcolor": "white",
            "gridwidth": 2,
            "linecolor": "white",
            "showbackground": true,
            "ticks": "",
            "zerolinecolor": "white"
           },
           "yaxis": {
            "backgroundcolor": "#E5ECF6",
            "gridcolor": "white",
            "gridwidth": 2,
            "linecolor": "white",
            "showbackground": true,
            "ticks": "",
            "zerolinecolor": "white"
           },
           "zaxis": {
            "backgroundcolor": "#E5ECF6",
            "gridcolor": "white",
            "gridwidth": 2,
            "linecolor": "white",
            "showbackground": true,
            "ticks": "",
            "zerolinecolor": "white"
           }
          },
          "shapedefaults": {
           "line": {
            "color": "#2a3f5f"
           }
          },
          "ternary": {
           "aaxis": {
            "gridcolor": "white",
            "linecolor": "white",
            "ticks": ""
           },
           "baxis": {
            "gridcolor": "white",
            "linecolor": "white",
            "ticks": ""
           },
           "bgcolor": "#E5ECF6",
           "caxis": {
            "gridcolor": "white",
            "linecolor": "white",
            "ticks": ""
           }
          },
          "title": {
           "x": 0.05
          },
          "xaxis": {
           "automargin": true,
           "gridcolor": "white",
           "linecolor": "white",
           "ticks": "",
           "title": {
            "standoff": 15
           },
           "zerolinecolor": "white",
           "zerolinewidth": 2
          },
          "yaxis": {
           "automargin": true,
           "gridcolor": "white",
           "linecolor": "white",
           "ticks": "",
           "title": {
            "standoff": 15
           },
           "zerolinecolor": "white",
           "zerolinewidth": 2
          }
         }
        }
       }
      },
      "text/html": [
       "<div>                            <div id=\"dcaa2f8d-41b0-47d6-82a7-95bfdbcc5e85\" class=\"plotly-graph-div\" style=\"height:525px; width:100%;\"></div>            <script type=\"text/javascript\">                require([\"plotly\"], function(Plotly) {                    window.PLOTLYENV=window.PLOTLYENV || {};                                    if (document.getElementById(\"dcaa2f8d-41b0-47d6-82a7-95bfdbcc5e85\")) {                    Plotly.newPlot(                        \"dcaa2f8d-41b0-47d6-82a7-95bfdbcc5e85\",                        [{\"marker\":{\"color\":0},\"name\":\"error 0\",\"nbinsx\":10,\"opacity\":0.5,\"type\":\"histogram\",\"x\":[6,6,5,5,3,3,5,4,5,5,5,7,3,3,7,4,6,7]},{\"marker\":{\"color\":1},\"name\":\"error 1\",\"nbinsx\":10,\"opacity\":0.5,\"type\":\"histogram\",\"x\":[5,4,5,3,5,6,8,3]},{\"marker\":{\"color\":2},\"name\":\"error 2\",\"nbinsx\":10,\"opacity\":0.5,\"type\":\"histogram\",\"x\":[0,7,3,8,4,5,6,4,3,7,8,8,4,4,5,3,1,7,8,6,0,6,7,6,9,8,0,3,5,7,6,6,9,3,0,7,4,3,4,4,7]},{\"marker\":{\"color\":3},\"name\":\"error 3\",\"nbinsx\":10,\"opacity\":0.5,\"type\":\"histogram\",\"x\":[9,4,5,5,5,6,9,9,5,5,8,8,5,9,1,2,5,2,5,0,2,7,2,6,2,4,6,8,2,5,6,2,6,9,8,4,7,2,5,6,4,6,2,5,7,6,5,7,9,2,5,9,5,7,5,5,8,7,7,1,8]},{\"marker\":{\"color\":4},\"name\":\"error 4\",\"nbinsx\":10,\"opacity\":0.5,\"type\":\"histogram\",\"x\":[1,0,3,3,8,9,6,5,5,9,9,9,2,1,1,6,3,6,9,6,9,9,3,2,9,9]},{\"marker\":{\"color\":5},\"name\":\"error 5\",\"nbinsx\":10,\"opacity\":0.5,\"type\":\"histogram\",\"x\":[6,2,4,9,6,9,3,3,1,3,6,0,2,9,6,9,9,1,0,8,0,1,9,9,0,3,4,0,3,3,3,6,1,9,9,9,2,3,1,3,9,9,1,4,6,3,9]},{\"marker\":{\"color\":6},\"name\":\"error 6\",\"nbinsx\":10,\"opacity\":0.5,\"type\":\"histogram\",\"x\":[9,5,1,3,5,8,0,2,9,3,3,8,4,5,7,5,3,8,4,8,0,9,0,8,1,5,1]},{\"marker\":{\"color\":7},\"name\":\"error 7\",\"nbinsx\":10,\"opacity\":0.5,\"type\":\"histogram\",\"x\":[9,9,1,2,2,8,8,8,4,2,2,2,9,9,2,5,4,9,9,8,4,3,8,4,9,8,4,4,8,2,4,9,2,2,8,2,5,9]},{\"marker\":{\"color\":8},\"name\":\"error 8\",\"nbinsx\":10,\"opacity\":0.5,\"type\":\"histogram\",\"x\":[3,7,2,2,0,5,5,9,3,6,7,9,0,0,9,6,2,9,2,4,3,3,2,5,5,5,3,6,2,3,7,0,6,7,3,3,3,0,4,0]},{\"marker\":{\"color\":9},\"name\":\"error 9\",\"nbinsx\":10,\"opacity\":0.5,\"type\":\"histogram\",\"x\":[2,1,5,3,5,2,8,8,7,5,5,2,7,3,0,7,7,2,8,3,4,7,7,8,7,4,7,7,7,7,4,3,5,7,8,4,8,4,7,0,4,3,1,4,4,4,5,7,8]}],                        {\"template\":{\"data\":{\"bar\":[{\"error_x\":{\"color\":\"#2a3f5f\"},\"error_y\":{\"color\":\"#2a3f5f\"},\"marker\":{\"line\":{\"color\":\"#E5ECF6\",\"width\":0.5},\"pattern\":{\"fillmode\":\"overlay\",\"size\":10,\"solidity\":0.2}},\"type\":\"bar\"}],\"barpolar\":[{\"marker\":{\"line\":{\"color\":\"#E5ECF6\",\"width\":0.5},\"pattern\":{\"fillmode\":\"overlay\",\"size\":10,\"solidity\":0.2}},\"type\":\"barpolar\"}],\"carpet\":[{\"aaxis\":{\"endlinecolor\":\"#2a3f5f\",\"gridcolor\":\"white\",\"linecolor\":\"white\",\"minorgridcolor\":\"white\",\"startlinecolor\":\"#2a3f5f\"},\"baxis\":{\"endlinecolor\":\"#2a3f5f\",\"gridcolor\":\"white\",\"linecolor\":\"white\",\"minorgridcolor\":\"white\",\"startlinecolor\":\"#2a3f5f\"},\"type\":\"carpet\"}],\"choropleth\":[{\"colorbar\":{\"outlinewidth\":0,\"ticks\":\"\"},\"type\":\"choropleth\"}],\"contour\":[{\"colorbar\":{\"outlinewidth\":0,\"ticks\":\"\"},\"colorscale\":[[0.0,\"#0d0887\"],[0.1111111111111111,\"#46039f\"],[0.2222222222222222,\"#7201a8\"],[0.3333333333333333,\"#9c179e\"],[0.4444444444444444,\"#bd3786\"],[0.5555555555555556,\"#d8576b\"],[0.6666666666666666,\"#ed7953\"],[0.7777777777777778,\"#fb9f3a\"],[0.8888888888888888,\"#fdca26\"],[1.0,\"#f0f921\"]],\"type\":\"contour\"}],\"contourcarpet\":[{\"colorbar\":{\"outlinewidth\":0,\"ticks\":\"\"},\"type\":\"contourcarpet\"}],\"heatmap\":[{\"colorbar\":{\"outlinewidth\":0,\"ticks\":\"\"},\"colorscale\":[[0.0,\"#0d0887\"],[0.1111111111111111,\"#46039f\"],[0.2222222222222222,\"#7201a8\"],[0.3333333333333333,\"#9c179e\"],[0.4444444444444444,\"#bd3786\"],[0.5555555555555556,\"#d8576b\"],[0.6666666666666666,\"#ed7953\"],[0.7777777777777778,\"#fb9f3a\"],[0.8888888888888888,\"#fdca26\"],[1.0,\"#f0f921\"]],\"type\":\"heatmap\"}],\"heatmapgl\":[{\"colorbar\":{\"outlinewidth\":0,\"ticks\":\"\"},\"colorscale\":[[0.0,\"#0d0887\"],[0.1111111111111111,\"#46039f\"],[0.2222222222222222,\"#7201a8\"],[0.3333333333333333,\"#9c179e\"],[0.4444444444444444,\"#bd3786\"],[0.5555555555555556,\"#d8576b\"],[0.6666666666666666,\"#ed7953\"],[0.7777777777777778,\"#fb9f3a\"],[0.8888888888888888,\"#fdca26\"],[1.0,\"#f0f921\"]],\"type\":\"heatmapgl\"}],\"histogram\":[{\"marker\":{\"pattern\":{\"fillmode\":\"overlay\",\"size\":10,\"solidity\":0.2}},\"type\":\"histogram\"}],\"histogram2d\":[{\"colorbar\":{\"outlinewidth\":0,\"ticks\":\"\"},\"colorscale\":[[0.0,\"#0d0887\"],[0.1111111111111111,\"#46039f\"],[0.2222222222222222,\"#7201a8\"],[0.3333333333333333,\"#9c179e\"],[0.4444444444444444,\"#bd3786\"],[0.5555555555555556,\"#d8576b\"],[0.6666666666666666,\"#ed7953\"],[0.7777777777777778,\"#fb9f3a\"],[0.8888888888888888,\"#fdca26\"],[1.0,\"#f0f921\"]],\"type\":\"histogram2d\"}],\"histogram2dcontour\":[{\"colorbar\":{\"outlinewidth\":0,\"ticks\":\"\"},\"colorscale\":[[0.0,\"#0d0887\"],[0.1111111111111111,\"#46039f\"],[0.2222222222222222,\"#7201a8\"],[0.3333333333333333,\"#9c179e\"],[0.4444444444444444,\"#bd3786\"],[0.5555555555555556,\"#d8576b\"],[0.6666666666666666,\"#ed7953\"],[0.7777777777777778,\"#fb9f3a\"],[0.8888888888888888,\"#fdca26\"],[1.0,\"#f0f921\"]],\"type\":\"histogram2dcontour\"}],\"mesh3d\":[{\"colorbar\":{\"outlinewidth\":0,\"ticks\":\"\"},\"type\":\"mesh3d\"}],\"parcoords\":[{\"line\":{\"colorbar\":{\"outlinewidth\":0,\"ticks\":\"\"}},\"type\":\"parcoords\"}],\"pie\":[{\"automargin\":true,\"type\":\"pie\"}],\"scatter\":[{\"marker\":{\"colorbar\":{\"outlinewidth\":0,\"ticks\":\"\"}},\"type\":\"scatter\"}],\"scatter3d\":[{\"line\":{\"colorbar\":{\"outlinewidth\":0,\"ticks\":\"\"}},\"marker\":{\"colorbar\":{\"outlinewidth\":0,\"ticks\":\"\"}},\"type\":\"scatter3d\"}],\"scattercarpet\":[{\"marker\":{\"colorbar\":{\"outlinewidth\":0,\"ticks\":\"\"}},\"type\":\"scattercarpet\"}],\"scattergeo\":[{\"marker\":{\"colorbar\":{\"outlinewidth\":0,\"ticks\":\"\"}},\"type\":\"scattergeo\"}],\"scattergl\":[{\"marker\":{\"colorbar\":{\"outlinewidth\":0,\"ticks\":\"\"}},\"type\":\"scattergl\"}],\"scattermapbox\":[{\"marker\":{\"colorbar\":{\"outlinewidth\":0,\"ticks\":\"\"}},\"type\":\"scattermapbox\"}],\"scatterpolar\":[{\"marker\":{\"colorbar\":{\"outlinewidth\":0,\"ticks\":\"\"}},\"type\":\"scatterpolar\"}],\"scatterpolargl\":[{\"marker\":{\"colorbar\":{\"outlinewidth\":0,\"ticks\":\"\"}},\"type\":\"scatterpolargl\"}],\"scatterternary\":[{\"marker\":{\"colorbar\":{\"outlinewidth\":0,\"ticks\":\"\"}},\"type\":\"scatterternary\"}],\"surface\":[{\"colorbar\":{\"outlinewidth\":0,\"ticks\":\"\"},\"colorscale\":[[0.0,\"#0d0887\"],[0.1111111111111111,\"#46039f\"],[0.2222222222222222,\"#7201a8\"],[0.3333333333333333,\"#9c179e\"],[0.4444444444444444,\"#bd3786\"],[0.5555555555555556,\"#d8576b\"],[0.6666666666666666,\"#ed7953\"],[0.7777777777777778,\"#fb9f3a\"],[0.8888888888888888,\"#fdca26\"],[1.0,\"#f0f921\"]],\"type\":\"surface\"}],\"table\":[{\"cells\":{\"fill\":{\"color\":\"#EBF0F8\"},\"line\":{\"color\":\"white\"}},\"header\":{\"fill\":{\"color\":\"#C8D4E3\"},\"line\":{\"color\":\"white\"}},\"type\":\"table\"}]},\"layout\":{\"annotationdefaults\":{\"arrowcolor\":\"#2a3f5f\",\"arrowhead\":0,\"arrowwidth\":1},\"autotypenumbers\":\"strict\",\"coloraxis\":{\"colorbar\":{\"outlinewidth\":0,\"ticks\":\"\"}},\"colorscale\":{\"diverging\":[[0,\"#8e0152\"],[0.1,\"#c51b7d\"],[0.2,\"#de77ae\"],[0.3,\"#f1b6da\"],[0.4,\"#fde0ef\"],[0.5,\"#f7f7f7\"],[0.6,\"#e6f5d0\"],[0.7,\"#b8e186\"],[0.8,\"#7fbc41\"],[0.9,\"#4d9221\"],[1,\"#276419\"]],\"sequential\":[[0.0,\"#0d0887\"],[0.1111111111111111,\"#46039f\"],[0.2222222222222222,\"#7201a8\"],[0.3333333333333333,\"#9c179e\"],[0.4444444444444444,\"#bd3786\"],[0.5555555555555556,\"#d8576b\"],[0.6666666666666666,\"#ed7953\"],[0.7777777777777778,\"#fb9f3a\"],[0.8888888888888888,\"#fdca26\"],[1.0,\"#f0f921\"]],\"sequentialminus\":[[0.0,\"#0d0887\"],[0.1111111111111111,\"#46039f\"],[0.2222222222222222,\"#7201a8\"],[0.3333333333333333,\"#9c179e\"],[0.4444444444444444,\"#bd3786\"],[0.5555555555555556,\"#d8576b\"],[0.6666666666666666,\"#ed7953\"],[0.7777777777777778,\"#fb9f3a\"],[0.8888888888888888,\"#fdca26\"],[1.0,\"#f0f921\"]]},\"colorway\":[\"#636efa\",\"#EF553B\",\"#00cc96\",\"#ab63fa\",\"#FFA15A\",\"#19d3f3\",\"#FF6692\",\"#B6E880\",\"#FF97FF\",\"#FECB52\"],\"font\":{\"color\":\"#2a3f5f\"},\"geo\":{\"bgcolor\":\"white\",\"lakecolor\":\"white\",\"landcolor\":\"#E5ECF6\",\"showlakes\":true,\"showland\":true,\"subunitcolor\":\"white\"},\"hoverlabel\":{\"align\":\"left\"},\"hovermode\":\"closest\",\"mapbox\":{\"style\":\"light\"},\"paper_bgcolor\":\"white\",\"plot_bgcolor\":\"#E5ECF6\",\"polar\":{\"angularaxis\":{\"gridcolor\":\"white\",\"linecolor\":\"white\",\"ticks\":\"\"},\"bgcolor\":\"#E5ECF6\",\"radialaxis\":{\"gridcolor\":\"white\",\"linecolor\":\"white\",\"ticks\":\"\"}},\"scene\":{\"xaxis\":{\"backgroundcolor\":\"#E5ECF6\",\"gridcolor\":\"white\",\"gridwidth\":2,\"linecolor\":\"white\",\"showbackground\":true,\"ticks\":\"\",\"zerolinecolor\":\"white\"},\"yaxis\":{\"backgroundcolor\":\"#E5ECF6\",\"gridcolor\":\"white\",\"gridwidth\":2,\"linecolor\":\"white\",\"showbackground\":true,\"ticks\":\"\",\"zerolinecolor\":\"white\"},\"zaxis\":{\"backgroundcolor\":\"#E5ECF6\",\"gridcolor\":\"white\",\"gridwidth\":2,\"linecolor\":\"white\",\"showbackground\":true,\"ticks\":\"\",\"zerolinecolor\":\"white\"}},\"shapedefaults\":{\"line\":{\"color\":\"#2a3f5f\"}},\"ternary\":{\"aaxis\":{\"gridcolor\":\"white\",\"linecolor\":\"white\",\"ticks\":\"\"},\"baxis\":{\"gridcolor\":\"white\",\"linecolor\":\"white\",\"ticks\":\"\"},\"bgcolor\":\"#E5ECF6\",\"caxis\":{\"gridcolor\":\"white\",\"linecolor\":\"white\",\"ticks\":\"\"}},\"title\":{\"x\":0.05},\"xaxis\":{\"automargin\":true,\"gridcolor\":\"white\",\"linecolor\":\"white\",\"ticks\":\"\",\"title\":{\"standoff\":15},\"zerolinecolor\":\"white\",\"zerolinewidth\":2},\"yaxis\":{\"automargin\":true,\"gridcolor\":\"white\",\"linecolor\":\"white\",\"ticks\":\"\",\"title\":{\"standoff\":15},\"zerolinecolor\":\"white\",\"zerolinewidth\":2}}}},                        {\"responsive\": true}                    ).then(function(){\n",
       "                            \n",
       "var gd = document.getElementById('dcaa2f8d-41b0-47d6-82a7-95bfdbcc5e85');\n",
       "var x = new MutationObserver(function (mutations, observer) {{\n",
       "        var display = window.getComputedStyle(gd).display;\n",
       "        if (!display || display === 'none') {{\n",
       "            console.log([gd, 'removed!']);\n",
       "            Plotly.purge(gd);\n",
       "            observer.disconnect();\n",
       "        }}\n",
       "}});\n",
       "\n",
       "// Listen for the removal of the full notebook cells\n",
       "var notebookContainer = gd.closest('#notebook-container');\n",
       "if (notebookContainer) {{\n",
       "    x.observe(notebookContainer, {childList: true});\n",
       "}}\n",
       "\n",
       "// Listen for the clearing of the current output cell\n",
       "var outputEl = gd.closest('.output');\n",
       "if (outputEl) {{\n",
       "    x.observe(outputEl, {childList: true});\n",
       "}}\n",
       "\n",
       "                        })                };                });            </script>        </div>"
      ]
     },
     "metadata": {},
     "output_type": "display_data"
    }
   ],
   "source": [
    "import plotly.graph_objects as go\n",
    "def error_analysis():\n",
    "    yactual = np.asarray(test_y)\n",
    "\n",
    "    fig=go.Figure()\n",
    "    for i in range(10):\n",
    "        items = pred[yactual==i] #\n",
    "        correct = items[items==i]#\n",
    "        err = items[items!=i]#\n",
    "        fig.add_trace(go.Histogram(x=err,\n",
    "                               nbinsx=10,name=f\"error {i}\",marker_color=i,opacity=0.5))\n",
    "    fig.show()\n",
    "    \n",
    "error_analysis()"
   ]
  },
  {
   "cell_type": "code",
   "execution_count": null,
   "id": "23f7f92d",
   "metadata": {},
   "outputs": [],
   "source": []
  }
 ],
 "metadata": {
  "kernelspec": {
   "display_name": "Python 3 (ipykernel)",
   "language": "python",
   "name": "python3"
  },
  "language_info": {
   "codemirror_mode": {
    "name": "ipython",
    "version": 3
   },
   "file_extension": ".py",
   "mimetype": "text/x-python",
   "name": "python",
   "nbconvert_exporter": "python",
   "pygments_lexer": "ipython3",
   "version": "3.8.0"
  }
 },
 "nbformat": 4,
 "nbformat_minor": 5
}
